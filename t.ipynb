{
 "cells": [
  {
   "cell_type": "code",
   "execution_count": 5,
   "id": "41317841",
   "metadata": {},
   "outputs": [
    {
     "name": "stdout",
     "output_type": "stream",
     "text": [
      "space 65  \n",
      "Left 113 \n",
      "Up 111 \n",
      "Down 116 \n",
      "Right 114 \n"
     ]
    }
   ],
   "source": [
    "\"\"\"\n",
    "@author: plantec\n",
    "\"\"\"\n",
    "try:  # import as appropriate for 2.x vs. 3.x\n",
    "    import tkinter as tk\n",
    "    from tkinter import *\n",
    "except:\n",
    "    import Tkinter as tk\n",
    "    from Tkinter import *\n",
    "\n",
    "# montre comment lier une fonction (print_key) à n'importe quelle evenement clavier\n",
    "\n",
    "class Example:\n",
    "    def __init__(self):\n",
    "        self.root = tk.Tk()\n",
    "\n",
    "    def print_key(self, event):\n",
    "        print(event.keysym, event.keycode,event.char)\n",
    "\n",
    "    def start(self):\n",
    "        self.root.bind(\"<Key>\", self.print_key)\n",
    "        self.root.mainloop()\n",
    "\n",
    "ex = Example()\n",
    "ex.start()\n"
   ]
  },
  {
   "cell_type": "code",
   "execution_count": null,
   "id": "73a27c5c",
   "metadata": {},
   "outputs": [],
   "source": []
  }
 ],
 "metadata": {
  "kernelspec": {
   "display_name": "Python 3 (ipykernel)",
   "language": "python",
   "name": "python3"
  },
  "language_info": {
   "codemirror_mode": {
    "name": "ipython",
    "version": 3
   },
   "file_extension": ".py",
   "mimetype": "text/x-python",
   "name": "python",
   "nbconvert_exporter": "python",
   "pygments_lexer": "ipython3",
   "version": "3.11.3"
  }
 },
 "nbformat": 4,
 "nbformat_minor": 5
}
