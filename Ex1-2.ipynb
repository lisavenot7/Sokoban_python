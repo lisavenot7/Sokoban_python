{
 "cells": [
  {
   "cell_type": "code",
   "execution_count": 5,
   "id": "4719cebe",
   "metadata": {},
   "outputs": [],
   "source": [
    "\"\"\"\n",
    "@author: plantec\n",
    "\"\"\"\n",
    "try:  # import as appropriate for 2.x vs. 3.x\n",
    "    import tkinter as tk\n",
    "    import tkinter.messagebox as tkMessageBox\n",
    "except:\n",
    "    import Tkinter as tk\n",
    "    import tkMessageBox\n",
    "\n",
    "class Example:\n",
    "    def __init__(self):\n",
    "        self.root = tk.Tk()\n",
    "        self.player_id = None\n",
    "        self.canvas_width = 600\n",
    "        self.canvas_height = 400\n",
    "        self.canvas = tk.Canvas(self.root, width=self.canvas_width, height=self.canvas_height)\n",
    "        self.canvas.pack()\n",
    "        self.player_image = tk.PhotoImage(file='player.png')\n",
    "        self.player_id = self.canvas.create_image( 0,0, image=self.player_image )\n",
    "\n",
    "    def start(self):\n",
    "        self.root.mainloop()\n",
    "\n",
    "# Creation d'une instance de Example et stockage de sa reference dans ex\n",
    "ex = Example()\n",
    "# Envoie le message start à l'objet ex\n",
    "ex.start()\n"
   ]
  },
  {
   "cell_type": "code",
   "execution_count": null,
   "id": "c1748a30",
   "metadata": {},
   "outputs": [],
   "source": []
  }
 ],
 "metadata": {
  "kernelspec": {
   "display_name": "Python 3 (ipykernel)",
   "language": "python",
   "name": "python3"
  },
  "language_info": {
   "codemirror_mode": {
    "name": "ipython",
    "version": 3
   },
   "file_extension": ".py",
   "mimetype": "text/x-python",
   "name": "python",
   "nbconvert_exporter": "python",
   "pygments_lexer": "ipython3",
   "version": "3.11.3"
  }
 },
 "nbformat": 4,
 "nbformat_minor": 5
}
